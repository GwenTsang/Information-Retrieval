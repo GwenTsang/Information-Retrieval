{
  "nbformat": 4,
  "nbformat_minor": 0,
  "metadata": {
    "colab": {
      "provenance": [],
      "gpuType": "T4"
    },
    "kernelspec": {
      "name": "python3",
      "display_name": "Python 3"
    },
    "language_info": {
      "name": "python"
    },
    "accelerator": "GPU"
  },
  "cells": [
    {
      "cell_type": "code",
      "source": [
        "import nltk\n",
        "nltk.download('punkt')\n",
        "nltk.download('punkt_tab')"
      ],
      "metadata": {
        "colab": {
          "base_uri": "https://localhost:8080/"
        },
        "id": "uUmkZaC5zyOS",
        "outputId": "7c599b1d-f086-4b76-842f-00559570e2a9"
      },
      "execution_count": 5,
      "outputs": [
        {
          "output_type": "stream",
          "name": "stderr",
          "text": [
            "[nltk_data] Downloading package punkt to /root/nltk_data...\n",
            "[nltk_data]   Package punkt is already up-to-date!\n",
            "[nltk_data] Downloading package punkt_tab to /root/nltk_data...\n",
            "[nltk_data]   Package punkt_tab is already up-to-date!\n"
          ]
        },
        {
          "output_type": "execute_result",
          "data": {
            "text/plain": [
              "True"
            ]
          },
          "metadata": {},
          "execution_count": 5
        }
      ]
    },
    {
      "cell_type": "code",
      "metadata": {
        "colab": {
          "base_uri": "https://localhost:8080/"
        },
        "id": "0e97a873",
        "outputId": "e2762b65-5a06-4b48-8e5f-72d8ff6ceb54"
      },
      "source": [
        "!git clone https://github.com/GwenTsang/Information-Retrieval.git\n",
        "!mkdir -p /content/folder\n",
        "\n",
        "for i in range(1, 6):\n",
        "    file_name = f\"Trad_experiment/{i}.txt\"\n",
        "    source_path = f\"/content/Information-Retrieval/{file_name}\"\n",
        "    target_path = f\"/content/folder/{i}.txt\"\n",
        "    !mv {source_path} {target_path}"
      ],
      "execution_count": 1,
      "outputs": [
        {
          "output_type": "stream",
          "name": "stdout",
          "text": [
            "Cloning into 'Information-Retrieval'...\n",
            "remote: Enumerating objects: 18, done.\u001b[K\n",
            "remote: Counting objects: 100% (18/18), done.\u001b[K\n",
            "remote: Compressing objects: 100% (17/17), done.\u001b[K\n",
            "remote: Total 18 (delta 2), reused 0 (delta 0), pack-reused 0 (from 0)\u001b[K\n",
            "Receiving objects: 100% (18/18), 8.69 KiB | 8.69 MiB/s, done.\n",
            "Resolving deltas: 100% (2/2), done.\n",
            "Files downloaded and moved to /content/folder\n"
          ]
        }
      ]
    },
    {
      "cell_type": "code",
      "source": [
        "#@title Test de détection de paraphrase\n",
        "\n",
        "!pip -q install -U sentence-transformers nltk\n",
        "\n",
        "import os\n",
        "from pathlib import Path\n",
        "import torch\n",
        "from sentence_transformers import SentenceTransformer, util\n",
        "import nltk\n",
        "nltk.download('punkt')\n",
        "\n",
        "from nltk.tokenize import sent_tokenize\n",
        "\n",
        "file_paths = [f\"/content/folder/{i}.txt\" for i in range(1, 6)]\n",
        "\n",
        "MODEL_NAME = \"Lajavaness/sentence-camembert-large\"\n",
        "\n",
        "SOURCE_FILE = 3\n",
        "TOP_K = 2\n",
        "\n",
        "\n",
        "device = \"cuda\" if torch.cuda.is_available() else \"cpu\"\n",
        "print(f\"Using device: {device}\")\n",
        "\n",
        "model = SentenceTransformer(MODEL_NAME, device=device)\n",
        "\n",
        "# ---------------------------\n",
        "# Load and split sentences\n",
        "# ---------------------------\n",
        "def load_and_split(file_path: str):\n",
        "    with open(file_path, \"r\", encoding=\"utf-8\") as f:\n",
        "        text = f.read().strip()\n",
        "    sents = [s.strip() for s in sent_tokenize(text) if s.strip()]\n",
        "    return sents\n",
        "\n",
        "doc_names = []\n",
        "doc_sents = []  # list of list[str], one per file\n",
        "for p in file_paths:\n",
        "    if not Path(p).exists():\n",
        "        raise FileNotFoundError(f\"Missing file: {p}\")\n",
        "    sents = load_and_split(p)\n",
        "    doc_sents.append(sents)\n",
        "    doc_names.append(Path(p).name)\n",
        "    print(f\"Loaded {Path(p).name}: {len(sents)} sentences\")\n",
        "\n",
        "\n",
        "doc_embs = []  # list of tensor [num_sentences, dim]\n",
        "for sents in doc_sents:\n",
        "    emb = model.encode(sents, convert_to_tensor=True, device=device, show_progress_bar=False)\n",
        "    doc_embs.append(emb)\n",
        "\n",
        "def run_experiment(source_idx: int, which: str = \"first\", top_k: int = 3):\n",
        "    assert which in {\"first\", \"last\"}\n",
        "    src_name = doc_names[source_idx]\n",
        "    src_sents = doc_sents[source_idx]\n",
        "    assert len(src_sents) > 0, f\"No sentences in source file {src_name}\"\n",
        "\n",
        "    query_idx = 0 if which == \"first\" else len(src_sents) - 1\n",
        "    query_sentence = src_sents[query_idx]\n",
        "    print(\"\\n\" + \"=\"*80)\n",
        "    print(f\"Experiment: match the {which} sentence from {src_name}\")\n",
        "    print(f\"Query sentence ({src_name} [{query_idx}]): {query_sentence}\")\n",
        "    query_emb = model.encode([query_sentence], convert_to_tensor=True, device=device)\n",
        "\n",
        "    correct = 0\n",
        "    for j, (name, sents_j, embs_j) in enumerate(zip(doc_names, doc_sents, doc_embs)):\n",
        "        sims = util.cos_sim(query_emb, embs_j)[0]  # shape: [num_sents]\n",
        "        best_idx = int(torch.argmax(sims).item())\n",
        "        best_score = float(sims[best_idx].item())\n",
        "        expected_idx = 0 if which == \"first\" else (len(sents_j) - 1)\n",
        "        is_correct = (best_idx == expected_idx)\n",
        "        correct += int(is_correct)\n",
        "\n",
        "        print(\"\\n\" + \"-\"*80)\n",
        "        print(f\"Target file: {name}\")\n",
        "        print(f\"Top match index: {best_idx} (expected: {expected_idx}) | score: {best_score:.4f}\")\n",
        "        print(f\"Top match sentence: {sents_j[best_idx]}\")\n",
        "\n",
        "        k = min(top_k, len(sents_j))\n",
        "        if k > 1:\n",
        "            vals, idxs = torch.topk(sims, k=k)\n",
        "            print(\"Top-k candidates:\")\n",
        "            for rank, (val, idx) in enumerate(zip(vals.tolist(), idxs.tolist()), start=1):\n",
        "                tag = \" (expected)\" if idx == expected_idx else \"\"\n",
        "                print(f\"  {rank:>2}. idx={idx:>3}, score={val:.4f}{tag} | {sents_j[idx]}\")\n",
        "\n",
        "    print(\"\\n\" + \"=\"*80)\n",
        "    print(f\"Accuracy across files (should be 5/5 ideally): {correct}/{len(doc_names)}\")\n",
        "    return correct\n",
        "\n",
        "src_idx = SOURCE_FILE - 1\n",
        "\n",
        "first_acc = run_experiment(src_idx, which=\"first\", top_k=TOP_K)\n",
        "last_acc = run_experiment(src_idx, which=\"last\", top_k=TOP_K)\n",
        "print(f\"\\nSummary -> First sentence accuracy: {first_acc}/5, Last sentence accuracy: {last_acc}/5\")"
      ],
      "metadata": {
        "colab": {
          "base_uri": "https://localhost:8080/"
        },
        "id": "f3FQ3dio1Ue6",
        "outputId": "689a4d04-0a46-4c1c-ea73-c07a1cde1e0b"
      },
      "execution_count": 8,
      "outputs": [
        {
          "output_type": "stream",
          "name": "stderr",
          "text": [
            "[nltk_data] Downloading package punkt to /root/nltk_data...\n",
            "[nltk_data]   Package punkt is already up-to-date!\n"
          ]
        },
        {
          "output_type": "stream",
          "name": "stdout",
          "text": [
            "Using device: cuda\n",
            "Loaded 1.txt: 3 sentences\n",
            "Loaded 2.txt: 4 sentences\n",
            "Loaded 3.txt: 6 sentences\n",
            "Loaded 4.txt: 4 sentences\n",
            "Loaded 5.txt: 6 sentences\n",
            "\n",
            "================================================================================\n",
            "Experiment: match the first sentence from 3.txt\n",
            "Query sentence (3.txt [0]): Mais ce ne sont pas les seuls objets que renferme l'immense capacité de ma mémoire.\n",
            "\n",
            "--------------------------------------------------------------------------------\n",
            "Target file: 1.txt\n",
            "Top match index: 0 (expected: 0) | score: 0.5493\n",
            "Top match sentence: ﻿Mais cette vaste étendue de ma mémoire ne conserve pas seulement les espèces de toutes les choses dont je viens de parler : mais elle contient aussi tout ce que j’ai appris des sciences, et que je n’ai point encore oublié ; et elle le garde comme dans des lieux secrets et particuliers bien différents des lieux ordinaires où les corps sont renfermés ; et elle ne conserve pas seulement les images de ces connaissances, mais les connaissances mêmes 1 .\n",
            "Top-k candidates:\n",
            "   1. idx=  0, score=0.5493 (expected) | ﻿Mais cette vaste étendue de ma mémoire ne conserve pas seulement les espèces de toutes les choses dont je viens de parler : mais elle contient aussi tout ce que j’ai appris des sciences, et que je n’ai point encore oublié ; et elle le garde comme dans des lieux secrets et particuliers bien différents des lieux ordinaires où les corps sont renfermés ; et elle ne conserve pas seulement les images de ces connaissances, mais les connaissances mêmes 1 .\n",
            "   2. idx=  2, score=0.3366 | Car toutes ces choses n’entrent pas dans elle, mais elle en reçoit seulement les images avec une incroyable promptitude, et les place comme dans des cellules avec un ordre admirable, d’où par une manière qui n’est pas moins merveilleuse, nous les retirons en nous en ressouvenant.\n",
            "\n",
            "--------------------------------------------------------------------------------\n",
            "Target file: 2.txt\n",
            "Top match index: 0 (expected: 0) | score: 0.6772\n",
            "Top match sentence: Mais là ne s’arrête pas l’immense capacité de ma mémoire.\n",
            "Top-k candidates:\n",
            "   1. idx=  0, score=0.6772 (expected) | Mais là ne s’arrête pas l’immense capacité de ma mémoire.\n",
            "   2. idx=  3, score=0.4013 | Car ce que je sais de la grammaire et de la dialectique, du nombre et de l’espèce des questions, n’est pas entré dans ma mémoire comme l’image, qui laisse la réalité à la porte, évanouie aussitôt qu’apparue ; comme la voix imprimant à l’ouïe une trace qui la fait vibrer encore lorsqu’elle a cessé de raisonner ; comme l’odeur qui, dans son passage, dissipée au vent, pénètre l’odorat et porte à mémoire d’une image qui se reproduit au désir de la réminiscence ; comme l’aliment qui n’a plus de saveur qu’au palais de la mémoire ; ou comme l’objet que la main a touché, dont l’éloignement n’efface pas l’empreinte : car les réalités de cet ordre ne sont pas présentées à la mémoire, mais leurs seules images, qui, saisies avec une étonnante rapidité , sont rangées dans des cellules merveilleuses, d’où elles sont tirées merveilleusement par la main du souvenir.\n",
            "\n",
            "--------------------------------------------------------------------------------\n",
            "Target file: 3.txt\n",
            "Top match index: 0 (expected: 0) | score: 1.0000\n",
            "Top match sentence: Mais ce ne sont pas les seuls objets que renferme l'immense capacité de ma mémoire.\n",
            "Top-k candidates:\n",
            "   1. idx=  0, score=1.0000 (expected) | Mais ce ne sont pas les seuls objets que renferme l'immense capacité de ma mémoire.\n",
            "   2. idx=  5, score=0.3872 | Ces sortes de réalités ne s'introduisent pas dans la mémoire; seules leurs images sont captées avec une rapidité étonnante, et étonnamment disposées comme dans des cases, d'où elles sont extraites par le miracle du souvenir.\n",
            "\n",
            "--------------------------------------------------------------------------------\n",
            "Target file: 4.txt\n",
            "Top match index: 0 (expected: 0) | score: 0.7161\n",
            "Top match sentence: ﻿Mais cette immense capacité de ma mémoire ne porte pas seulement cela.\n",
            "Top-k candidates:\n",
            "   1. idx=  0, score=0.7161 (expected) | ﻿Mais cette immense capacité de ma mémoire ne porte pas seulement cela.\n",
            "   2. idx=  2, score=0.3890 | Car ce qu'est la littérature, ce qu'est l'aptitude à discuter, combien il y a de genres de questions — tout ce que je sais de ces choses est dans ma mémoire de sorte que je n'ai pas laissé l'objet dehors retenu par une image, ni qu'il ait sonné puis disparu comme une voix imprimée dans les oreilles, laissant une trace par laquelle on le rappellerait — comme si elle résonnait alors qu'elle ne résonne plus — ou comme une odeur qui, en passant et en se dissipant dans les vents, affecte l'odorat, et transmet à la mémoire son image que nous ressuscitons en nous souvenant ; ou comme un aliment qui certes, dans le ventre, n'a plus de goût et cependant, dans la mémoire, paraît encore goûter ; ou comme quelque chose que l'on perçoit en touchant le corps, qui même, une fois séparé de nous, est imaginé par la mémoire.\n",
            "\n",
            "--------------------------------------------------------------------------------\n",
            "Target file: 5.txt\n",
            "Top match index: 0 (expected: 0) | score: 0.7710\n",
            "Top match sentence: ﻿Mais l'immense capacité de ma mémoire ne contient pas que cela.\n",
            "Top-k candidates:\n",
            "   1. idx=  0, score=0.7710 (expected) | ﻿Mais l'immense capacité de ma mémoire ne contient pas que cela.\n",
            "   2. idx=  5, score=0.4643 | Car pour ces réalités sensibles, ce ne sont pas elles-mêmes qui pénètrent dans la mémoire, mais seules leurs images y sont captées avec une vitesse admirable, déposées dans de merveilleux compartiments, si l'on peut dire, et tirées de là admirablement par le souvenir.\n",
            "\n",
            "================================================================================\n",
            "Accuracy across files (should be 5/5 ideally): 5/5\n",
            "\n",
            "================================================================================\n",
            "Experiment: match the last sentence from 3.txt\n",
            "Query sentence (3.txt [5]): Ces sortes de réalités ne s'introduisent pas dans la mémoire; seules leurs images sont captées avec une rapidité étonnante, et étonnamment disposées comme dans des cases, d'où elles sont extraites par le miracle du souvenir.\n",
            "\n",
            "--------------------------------------------------------------------------------\n",
            "Target file: 1.txt\n",
            "Top match index: 2 (expected: 2) | score: 0.7203\n",
            "Top match sentence: Car toutes ces choses n’entrent pas dans elle, mais elle en reçoit seulement les images avec une incroyable promptitude, et les place comme dans des cellules avec un ordre admirable, d’où par une manière qui n’est pas moins merveilleuse, nous les retirons en nous en ressouvenant.\n",
            "Top-k candidates:\n",
            "   1. idx=  2, score=0.7203 (expected) | Car toutes ces choses n’entrent pas dans elle, mais elle en reçoit seulement les images avec une incroyable promptitude, et les place comme dans des cellules avec un ordre admirable, d’où par une manière qui n’est pas moins merveilleuse, nous les retirons en nous en ressouvenant.\n",
            "   2. idx=  0, score=0.4956 | ﻿Mais cette vaste étendue de ma mémoire ne conserve pas seulement les espèces de toutes les choses dont je viens de parler : mais elle contient aussi tout ce que j’ai appris des sciences, et que je n’ai point encore oublié ; et elle le garde comme dans des lieux secrets et particuliers bien différents des lieux ordinaires où les corps sont renfermés ; et elle ne conserve pas seulement les images de ces connaissances, mais les connaissances mêmes 1 .\n",
            "\n",
            "--------------------------------------------------------------------------------\n",
            "Target file: 2.txt\n",
            "Top match index: 3 (expected: 3) | score: 0.6030\n",
            "Top match sentence: Car ce que je sais de la grammaire et de la dialectique, du nombre et de l’espèce des questions, n’est pas entré dans ma mémoire comme l’image, qui laisse la réalité à la porte, évanouie aussitôt qu’apparue ; comme la voix imprimant à l’ouïe une trace qui la fait vibrer encore lorsqu’elle a cessé de raisonner ; comme l’odeur qui, dans son passage, dissipée au vent, pénètre l’odorat et porte à mémoire d’une image qui se reproduit au désir de la réminiscence ; comme l’aliment qui n’a plus de saveur qu’au palais de la mémoire ; ou comme l’objet que la main a touché, dont l’éloignement n’efface pas l’empreinte : car les réalités de cet ordre ne sont pas présentées à la mémoire, mais leurs seules images, qui, saisies avec une étonnante rapidité , sont rangées dans des cellules merveilleuses, d’où elles sont tirées merveilleusement par la main du souvenir.\n",
            "Top-k candidates:\n",
            "   1. idx=  3, score=0.6030 (expected) | Car ce que je sais de la grammaire et de la dialectique, du nombre et de l’espèce des questions, n’est pas entré dans ma mémoire comme l’image, qui laisse la réalité à la porte, évanouie aussitôt qu’apparue ; comme la voix imprimant à l’ouïe une trace qui la fait vibrer encore lorsqu’elle a cessé de raisonner ; comme l’odeur qui, dans son passage, dissipée au vent, pénètre l’odorat et porte à mémoire d’une image qui se reproduit au désir de la réminiscence ; comme l’aliment qui n’a plus de saveur qu’au palais de la mémoire ; ou comme l’objet que la main a touché, dont l’éloignement n’efface pas l’empreinte : car les réalités de cet ordre ne sont pas présentées à la mémoire, mais leurs seules images, qui, saisies avec une étonnante rapidité , sont rangées dans des cellules merveilleuses, d’où elles sont tirées merveilleusement par la main du souvenir.\n",
            "   2. idx=  2, score=0.4331 | Et ces perceptions, je les garde à l’écart plus intérieurement, non pas en lieu, ni en images, mais en réalit.\n",
            "\n",
            "--------------------------------------------------------------------------------\n",
            "Target file: 3.txt\n",
            "Top match index: 5 (expected: 5) | score: 1.0000\n",
            "Top match sentence: Ces sortes de réalités ne s'introduisent pas dans la mémoire; seules leurs images sont captées avec une rapidité étonnante, et étonnamment disposées comme dans des cases, d'où elles sont extraites par le miracle du souvenir.\n",
            "Top-k candidates:\n",
            "   1. idx=  5, score=1.0000 (expected) | Ces sortes de réalités ne s'introduisent pas dans la mémoire; seules leurs images sont captées avec une rapidité étonnante, et étonnamment disposées comme dans des cases, d'où elles sont extraites par le miracle du souvenir.\n",
            "   2. idx=  2, score=0.3995 | Et ce ne sont point de simples images, mais des réalités que je porte dans mon esprit.\n",
            "\n",
            "--------------------------------------------------------------------------------\n",
            "Target file: 4.txt\n",
            "Top match index: 3 (expected: 3) | score: 0.7614\n",
            "Top match sentence: Ces choses, en effet, n'entrent pas en elle : seules leurs images y sont saisies avec une merveilleuse rapidité, rangées dans d'étonnantes cellules et, de manière admirable, remontées à la surface par l'acte de se souvenir.\n",
            "Top-k candidates:\n",
            "   1. idx=  3, score=0.7614 (expected) | Ces choses, en effet, n'entrent pas en elle : seules leurs images y sont saisies avec une merveilleuse rapidité, rangées dans d'étonnantes cellules et, de manière admirable, remontées à la surface par l'acte de se souvenir.\n",
            "   2. idx=  2, score=0.3912 | Car ce qu'est la littérature, ce qu'est l'aptitude à discuter, combien il y a de genres de questions — tout ce que je sais de ces choses est dans ma mémoire de sorte que je n'ai pas laissé l'objet dehors retenu par une image, ni qu'il ait sonné puis disparu comme une voix imprimée dans les oreilles, laissant une trace par laquelle on le rappellerait — comme si elle résonnait alors qu'elle ne résonne plus — ou comme une odeur qui, en passant et en se dissipant dans les vents, affecte l'odorat, et transmet à la mémoire son image que nous ressuscitons en nous souvenant ; ou comme un aliment qui certes, dans le ventre, n'a plus de goût et cependant, dans la mémoire, paraît encore goûter ; ou comme quelque chose que l'on perçoit en touchant le corps, qui même, une fois séparé de nous, est imaginé par la mémoire.\n",
            "\n",
            "--------------------------------------------------------------------------------\n",
            "Target file: 5.txt\n",
            "Top match index: 5 (expected: 5) | score: 0.7809\n",
            "Top match sentence: Car pour ces réalités sensibles, ce ne sont pas elles-mêmes qui pénètrent dans la mémoire, mais seules leurs images y sont captées avec une vitesse admirable, déposées dans de merveilleux compartiments, si l'on peut dire, et tirées de là admirablement par le souvenir.\n",
            "Top-k candidates:\n",
            "   1. idx=  5, score=0.7809 (expected) | Car pour ces réalités sensibles, ce ne sont pas elles-mêmes qui pénètrent dans la mémoire, mais seules leurs images y sont captées avec une vitesse admirable, déposées dans de merveilleux compartiments, si l'on peut dire, et tirées de là admirablement par le souvenir.\n",
            "   2. idx=  3, score=0.4874 | En effet, ce que sont la grammaire, l'art de la discussion, les différents genres de questions, tout ce que j'en sais est dans ma mémoire, mais non pas comme si j'en avais retenu l'image en laissant la réalité au-dehors.\n",
            "\n",
            "================================================================================\n",
            "Accuracy across files (should be 5/5 ideally): 5/5\n",
            "\n",
            "Summary -> First sentence accuracy: 5/5, Last sentence accuracy: 5/5\n"
          ]
        }
      ]
    }
  ]
}